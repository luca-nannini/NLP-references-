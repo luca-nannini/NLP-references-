{
 "cells": [
  {
   "cell_type": "markdown",
   "metadata": {},
   "source": [
    "#   _Computational Approaches to Natural Language Analysis_\n",
    "\n",
    "by [Luca Nannini](https://www.linkedin.com/in/luca-nannini/)\n",
    "\n",
    "***"
   ]
  },
  {
   "cell_type": "markdown",
   "metadata": {},
   "source": [
    "#### Purpose\n",
    "This a personal repository where I report all the useful open source links that helped me along the path of my education in Data Science and NLP.\n",
    "\n",
    "No Copyrights Infringements intended; upon request, material will be removed.  \n",
    "\n",
    "#### Index\n",
    "\n",
    "\n",
    "1. [Data Science, Machine Learning & Natural Language Processing](#1.-Data-Science,-Machine-Learning-&-Natural-Language-Processing)\n",
    "1. [Computational Pragmatics & Probabilistic Modeling](#2.-Computational-Pragmatics-&-Probabilistic-Modeling)\n",
    "1. [Causal Reasoning, Intelligent Machines, and AI Prospects](#3.-Causal-Reasoning,-Intelligent-Machines,-and-AI-Prospects)\n",
    "1. [Cognitive Science, Semiotics, Linguistics, and Pragmatics](#4.-Cognitive-Science,-Semiotics,-Linguistics,-and-Pragmatics)\n",
    "\n",
    "#### Graphic Overview\n",
    "As graphic interface, I created a [Google Drive Drawing File](https://docs.google.com/drawings/d/1Bjx63f0msCARWHv6a4MPADDM_n-m13LBTa_Tk7nMimk/edit?usp=sharing) collecting all these links as interconnected branches of different disciplines. The original purpose of it was to associate Communication Studies (e.g. Linguistics, Semiotics, Pragmatics, Formal Semantics and Causal Reasoning) along with their computational tools, methods and approaches (e.g. Natural Language Processing, Natural Language Understanding, Computational Semantics, Computational Pragmatics, Probabilistic Modeling).\n",
    "\n",
    "On the right, there are proposed some links to articles, tutorials, interviews, research papers for outstanding the current state-of-the-art of AI; on the far right, finally, there is proposed a personal schema of communicative alignments between agents in a grounded context analyzed from a Cognitive Semiotics to an Experimental Pragmatics point of views.\n",
    "\n",
    "Since the file is often updated, the GDoc format is the most suitable one: this mean that everybody can see the file, but first needs my approvation. "
   ]
  },
  {
   "cell_type": "markdown",
   "metadata": {},
   "source": [
    "****\n",
    "# 1. Data Science, Machine Learning & Natural Language Processing"
   ]
  },
  {
   "cell_type": "markdown",
   "metadata": {},
   "source": [
    "## MOOC Classes "
   ]
  },
  {
   "cell_type": "markdown",
   "metadata": {},
   "source": [
    "#### Introduction to Data Science with Python####\n",
    "- [Jose Portilla, Complete Python Bootcamp: Go from zero to Hero (Udemy)](https://www.udemy.com/complete-python-bootcamp/)\n",
    "- [AI Sweigart, Automate the boring stuff with Python programming (Udemy)](https://www.udemy.com/automate/learn/v4/overview)\n",
    "- [IBM Data Science Professional Certificate. 7 Courses (Coursera)](https://www.coursera.org/specializations/ibm-data-science-professional-certificate)\n",
    "- [Applied Data Science with Python Specialization. 5 Courses (Coursera)](https://www.coursera.org/specializations/data-science-python)  \n",
    "- [Fitting Statistical Models to Data with Python, University of Michigan (Coursera)](https://www.coursera.org/learn/fitting-statistical-models-data-python/home/welcome)\n",
    "\n",
    "#### Machine Learning with Python ####\n",
    "- [Machine Learning, Stanford University](https://www.coursera.org/learn/machine-learning)\n",
    "- [IBM Cognitive Class, Machine Learning with Python (CognitiveClass.ai)](https://cognitiveclass.ai/courses/machine-learning-with-python/)\n",
    "\n",
    "#### Machine Learning for Text Classification and Natural Language Processing #### \n",
    "- [Lazy Programmer Inc, Data Science: Natural Language Processing (NLP) in Python](https://www.udemy.com/data-science-natural-language-processing-in-python/learn/v4/overview)\n",
    "- [Lazy Programmer Inc, Natural Language Processing with Deep Learning in Python](https://www.udemy.com/data-science-natural-language-processing-in-python/learn/v4/overview) "
   ]
  },
  {
   "cell_type": "markdown",
   "metadata": {},
   "source": [
    "## NLP Group Stanford Courses \n",
    "\n",
    "- [Stanford University, NLP, CS124: From Languages to Information](http://web.stanford.edu/class/cs124/#schedule) + [Assignments and Lectures](https://www.dropbox.com/sh/4sf6wvu9xebwqai/AADf7CB3bGOaMsuIo55ERUTya?dl=0)\n",
    "- [Stanford University, NLP, CS224d: Deep Learning for Natural Language Processing](http://cs224d.stanford.edu/syllabus.html) \n",
    "- [Stanford University, NLP, CS224u: Natural Language Understanding](http://web.stanford.edu/class/cs224u/) \n",
    "- [Stanford University, Stanford Linguistics, Computational Pragmatics by Christopher Potts](http://compprag.christopherpotts.net/index.html)\n",
    "- [Natural Language Processing by Dan Jurafsky & Chris Manning - Stanford NLP Group, 23 YouTube Videos](https://www.youtube.com/watch?v=CXpZnZM63Gg&list=PL8FFE3F391203C98C)\n"
   ]
  },
  {
   "cell_type": "markdown",
   "metadata": {},
   "source": [
    "## Google\n",
    "1. [Google Developers, Machine Learning Crash Course with TensorFlow APIs  ](https://developers.google.com/machine-learning/crash-course/): an intuitive introduction to Machine Learning fundamental notions in an interactive environment\n",
    "1. [Google Developers, Machine Learning, Guide to Text Classification](https://developers.google.com/machine-learning/guides/text-classification/)\n",
    "1. [Google Data Studio](https://datastudio.google.com/u/0/navigation/reporting)"
   ]
  },
  {
   "cell_type": "markdown",
   "metadata": {},
   "source": [
    "## MonkeyLearn\n",
    "\n",
    "1. [Text Analysis: the only guide you'll ever need](https://monkeylearn.com/text-analysis/?utm_source=Email&utm_medium=Newsletter&utm_campaign=text-analysis-guide): an introduction to text analysis in terms of methods and techniques, scope, data preparation/analysis/visualization, applications and resources. \n",
    "1. [The Definitive Guide to Natural Language Processing](https://monkeylearn.com/blog/definitive-guide-natural-language-processing/): an overview of the main NLP applications - machine translation, automatic summarization, sentiment analysis, text classification, conversational agents, information extraction - and current challenges - machine translation for Natural Language Understanding. Further, it provides an explanation of the different levels of analysis that NLP covers in relation to linguistic structures - phonology, morphology, syntax, semantics and pragmatics.  \n",
    "1. [Getting started in Natural Language Processing (NLP)](https://monkeylearn.com/blog/getting-started-in-natural-language-processing-nlp/): an overview of books, online courses, web groups on NLP. It contains a list of tools for NLP analysis (NLTK, spaCy, Stanford CoreNLP), one list on NLP conferences and journals and a final one on the most canonical NLP papers (Automatic Text Summarization, Machine Translation, Information Extraction, Topic Modeling, Language Modeling and Word Representations, Tokenization, POS-Tagging and Parsing, Classification, General Deep Learning)\n",
    "1. [MonkeyLearn Demo Models](https://app.monkeylearn.com/main/explore/): dozens of AI demo models freely available, e.g. sentiment analysis, text classification, text features extractions, etc. "
   ]
  },
  {
   "cell_type": "markdown",
   "metadata": {},
   "source": [
    "***\n",
    "# 2. Computational Pragmatics & Probabilistic Modeling"
   ]
  },
  {
   "cell_type": "markdown",
   "metadata": {},
   "source": [
    "### Probability and Statistics - Bayesian Reasoning\n",
    "- [Seeing Theory, Brown University](https://seeing-theory.brown.edu/index.html#firstPage): an interactive visual book - Chapters: Basic Probability, Compound Probability, Probability Distributions, Frequentist Inference, Bayesian Inference, and Regression Analysis. There is even a [PDF](https://seeing-theory.brown.edu/doc/seeing-theory.pdf) version available.\n",
    "- [What is Bayes' Theorem?](https://www.probabilisticworld.com/what-is-bayes-theorem/)\n",
    "- What are Bayesian Belief Networks? \n",
    " - [Part 1](https://www.probabilisticworld.com/bayesian-belief-networks-part-1/)\n",
    " - [Part 2](https://www.probabilisticworld.com/bayesian-belief-networks-part-2/)\n",
    " \n",
    "- [Bayesian Statistics: From Concept to Data Analysis (Coursera)](https://www.coursera.org/learn/bayesian-statistics)\n",
    "\n",
    "### Courses \n",
    "-  [Probabilistic Language Understanding](https://michael-franke.github.io/probLang/): an introduction to Rational Speech Act modeling framework \n",
    "- [Probabilistic Models of Cognition](http://probmods.org/): an introduction to Computational Cognitive Science and the probabilistic programming language WebPPL. The books has been developed by  Noah D. Goodman, Joshua B. Tenenbaum & The ProbMods Contributors \n",
    "\n",
    "### Research Papers \n",
    "- [Pragmatic language interpretation as probabilistic inference](http://cocolab.stanford.edu/papers/GoodmanFrank2016-TICS.pdf): by Noah D. Goodman and Micheal C. Frank  \n",
    "- [Probabilistic pragmatics, or why Bayes’rule is probably important for pragmatics](https://www.degruyter.com/downloadpdf/j/zfsw.2016.35.issue-1/zfs-2016-0002/zfs-2016-0002.pdf): by Micheal Franke and Gerhard Jäger\n",
    "- [Theory-based Bayesian models of inductive learning and reasoning](http://web.mit.edu/cocosci/Papers/tics-theories-reprint.pdf): by Joshua B. Tenenbaum, Thomas L. Griffiths, and Charles Kemp"
   ]
  },
  {
   "cell_type": "markdown",
   "metadata": {},
   "source": [
    "***\n",
    "# 3. Causal Reasoning, Intelligent Machines, and AI Prospects"
   ]
  },
  {
   "cell_type": "markdown",
   "metadata": {},
   "source": [
    "### Articles\n",
    "#### On Causality\n",
    "-  [To Build Truly Intelligent Machines, Teach Them Cause and Effect](https://www.quantamagazine.org/to-build-truly-intelligent-machines-teach-them-cause-and-effect-20180515/): Judea Pearl on the exigence of causality in AI\n",
    "-  [Machine Learning beyond Curve Fitting: An Intro to Causal Inference and do-Calculus](https://www.inference.vc/untitled/)\n",
    "#### On Intelligent Machines\n",
    "- [Possible Minds: Twenty-Five Ways of Looking at AI](https://www.amazon.com/Possible-Minds-Twenty-Five-Ways-Looking/dp/0525557997?tag=w050b-20)\n",
    " - [Will AI Achieve Consciousness? Wrong Question](https://www.wired.com/story/will-ai-achieve-consciousness-wrong-question/): by Daniel C. Dennett\n",
    "-  [We analyzed 16,625 papers to figure out where AI is headed next](https://www.technologyreview.com/topic/intelligent-machines/): by Karen Hao\n",
    "- [How computers misunderstand the world](https://www.theverge.com/2018/5/23/17384324/meredith-broussard-artifical-unintelligence-technology-criticism-technochauvinism): Meredith Broussard on Techno-Chauvinism and the exigence of Human-in-the-loop systems\n",
    "- [On our Best Behaviour](http://www.cs.toronto.edu/~hector/Papers/ijcai-13-paper.pdf): by Hector J. Levesque\n",
    "- [Artificial Intelligence Hits the Barrier of Meaning](https://www.nytimes.com/2018/11/05/opinion/artificial-intelligence-machine-learning.html): by Melanie Mitchell"
   ]
  },
  {
   "cell_type": "markdown",
   "metadata": {},
   "source": [
    "### Research Papers \n",
    "#### On Causality\n",
    "- [Causality and causal reasoning in natural language](https://www.researchgate.net/publication/316605353_Causality_and_causal_reasoning_in_natural_language)\n",
    "- [Causal Reasoning Through Intervention](https://www.ucl.ac.uk/lagnado-lab/publications/lagnado/intervention%20hagmayer%20et%20al.pdf)\n",
    "- [Learning a Theory of Causality](https://web.stanford.edu/~ngoodman/papers/LTBC_psychreview_final.pdf): by Noah D. Goodman, Tomer D. Ullman, and Joshua B. Tenenbaum\n",
    "#### On Intelligent Machines \n",
    "- [Building Machines That Learn and Think Like People](https://cims.nyu.edu/~brenden/1604.00289v3.pdf): by Brenden M. Lake, Tomer D. Ullman, Joshua B. Tenenbaum, and Samuel J. Gershman\n",
    "- [How to Grow a Mind: Statistics, Structure, and Abstraction](http://web.mit.edu/cocosci/Papers/tkgg-science11-reprint.pdf): by Joshua B. Tenenbaum, Charles Kemp, Thomas L. Griffiths, Noah D. Goodman  "
   ]
  },
  {
   "cell_type": "markdown",
   "metadata": {},
   "source": [
    "***\n",
    "# 4. Cognitive Science, Semiotics, Linguistics, and Pragmatics "
   ]
  }
 ],
 "metadata": {
  "kernelspec": {
   "display_name": "Python 3",
   "language": "python",
   "name": "python3"
  },
  "language_info": {
   "codemirror_mode": {
    "name": "ipython",
    "version": 3
   },
   "file_extension": ".py",
   "mimetype": "text/x-python",
   "name": "python",
   "nbconvert_exporter": "python",
   "pygments_lexer": "ipython3",
   "version": "3.6.5"
  }
 },
 "nbformat": 4,
 "nbformat_minor": 2
}
